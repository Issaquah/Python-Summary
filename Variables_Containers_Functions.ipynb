{
 "cells": [
  {
   "cell_type": "code",
   "execution_count": 1,
   "metadata": {},
   "outputs": [
    {
     "name": "stdout",
     "output_type": "stream",
     "text": [
      "2\n",
      "3.3\n",
      "python\n"
     ]
    }
   ],
   "source": [
    "#variables can be declared dynamically and don't need  no need to declare their data type\n",
    "a=2\n",
    "b=3.3\n",
    "c=\"python\"\n",
    "print(a)\n",
    "print(b)\n",
    "print(c)"
   ]
  },
  {
   "cell_type": "code",
   "execution_count": 17,
   "metadata": {},
   "outputs": [
    {
     "name": "stdout",
     "output_type": "stream",
     "text": [
      "[1, 2, 3.3, 'Car', 'Yatch', 1.0]\n",
      "[1, 2, 3.3, 'Car', 'Yatch', 1.0]\n",
      "[1, 2, 3.3, 'Car', 'Yatch', 1.0]\n",
      "1 1\n",
      "2 2\n",
      "3 3.3\n",
      "4 Car\n",
      "5 Yatch\n",
      "6 1.0\n"
     ]
    }
   ],
   "source": [
    "#Containers\n",
    "#LIST\n",
    "# 1)slicing a list\n",
    "lst = [1, 2, 3.3, \"Car\", \"Yatch\", 1.0]\n",
    "print(lst)\n",
    "lst[1:3]\n",
    "lst[0:]\n",
    "print(lst)\n",
    "lst[0:-1]\n",
    "print(lst)\n",
    "lst[:]\n",
    "\n"
   ]
  },
  {
   "cell_type": "code",
   "execution_count": 18,
   "metadata": {},
   "outputs": [
    {
     "name": "stdout",
     "output_type": "stream",
     "text": [
      "1 1\n",
      "2 2\n",
      "3 3.3\n",
      "4 Car\n",
      "5 Yatch\n",
      "6 1.0\n"
     ]
    }
   ],
   "source": [
    "# LIST\n",
    "# 2)looping through list\n",
    "\n",
    "count=0\n",
    "lst = [1, 2, 3.3, \"Car\", \"Yatch\", 1.0]\n",
    "for i in lst:\n",
    "    count += 1\n",
    "    print(count,i)"
   ]
  },
  {
   "cell_type": "code",
   "execution_count": 20,
   "metadata": {},
   "outputs": [
    {
     "name": "stdout",
     "output_type": "stream",
     "text": [
      "1\n",
      "Yatch\n",
      "[1.0]\n"
     ]
    }
   ],
   "source": [
    "# LIST\n",
    "# 3)Indexing\n",
    "\n",
    "lst = [1, 2, 3.3, \"Car\", \"Yatch\", 1.0]\n",
    "\n",
    "print(lst[0])\n",
    "print(lst[4])\n",
    "print(lst[5:])\n"
   ]
  },
  {
   "cell_type": "code",
   "execution_count": 22,
   "metadata": {},
   "outputs": [
    {
     "name": "stdout",
     "output_type": "stream",
     "text": [
      "[1, 2, 3.3, 'Yatch', 1.0, 2.7777, [2, 3, 5, 111, 'Todd', 'Yuval']]\n"
     ]
    }
   ],
   "source": [
    "# LIST\n",
    "# 4)MODIFYING A LIST : append/remove/extend another list\n",
    "\n",
    "lst = [1, 2, 3.3, \"Car\", \"Yatch\", 1.0]\n",
    "\n",
    "lst.append(2.7777)\n",
    "print(lst)\n",
    "\n",
    "lst1 = [2, 3, 5, 111, \"Todd\", \"Yuval\"]\n",
    "\n",
    "lst.append(lst1)\n",
    "print(lst)\n",
    "\n",
    "lst.pop(3)\n",
    "print(lst)\n"
   ]
  },
  {
   "cell_type": "code",
   "execution_count": null,
   "metadata": {},
   "outputs": [],
   "source": []
  },
  {
   "cell_type": "code",
   "execution_count": 24,
   "metadata": {},
   "outputs": [
    {
     "name": "stdout",
     "output_type": "stream",
     "text": [
      "Car\n",
      "3\n",
      "9.999\n",
      "2\n"
     ]
    }
   ],
   "source": [
    "# DICTIONARY\n",
    "# OPERATIONS : 1)CREATE/2)INDEXING AND RETURN VALUES/ 3)/LOOPING/ 4)MODIFY:append element;remove element;extend dictionary\n",
    "\n",
    "# 1)CREATING \n",
    "# 2)INDEXING AND RETURN VALUES\n",
    "our_dict = {1:2,2:3,3:\"Car\",4:9.999,5:\"Arum\",6:\"Marquard\",7:243}\n",
    "\n",
    "print(our_dict[3])\n",
    "print(our_dict[2])\n",
    "print(our_dict.get(4))\n",
    "print(our_dict.get(1))"
   ]
  },
  {
   "cell_type": "code",
   "execution_count": 28,
   "metadata": {},
   "outputs": [
    {
     "name": "stdout",
     "output_type": "stream",
     "text": [
      "1\n",
      "2\n",
      "3\n",
      "4\n",
      "5\n",
      "6\n",
      "7\n",
      "\n",
      "2\n",
      "3\n",
      "Car\n",
      "9.999\n",
      "Arum\n",
      "Marquard\n",
      "243\n"
     ]
    }
   ],
   "source": [
    "# DICTIONARY\n",
    "# 3)LOOPING THROUGH LIST\n",
    "# 3.1)loop and get keys\n",
    "# 3.2)loop and get values\n",
    "our_dict = {1:2,2:3,3:\"Car\",4:9.999,5:\"Arum\",6:\"Marquard\",7:243}\n",
    "for i in our_dict:\n",
    "    print(i)\n",
    "print(\"\")    \n",
    "for j in our_dict:\n",
    "    print(our_dict[j])\n"
   ]
  },
  {
   "cell_type": "code",
   "execution_count": 29,
   "metadata": {},
   "outputs": [
    {
     "name": "stdout",
     "output_type": "stream",
     "text": [
      "{2: 3, 3: 'Car', 4: 9.999, 5: 'Arum', 7: 243, 8: 'TeV', 9: 'eee', 10: {1: 'cccc', 2: 'ttttt', 3: 'ooop'}}\n"
     ]
    }
   ],
   "source": [
    "# DICTIONARY\n",
    "# 4)MODIFY:append element;remove element;extend dictionary\n",
    "\n",
    "our_dict = {1:2,2:3,3:\"Car\",4:9.999,5:\"Arum\",6:\"Marquard\",7:243}\n",
    "# append elements\n",
    "our_dict[8]=\"TeV\"\n",
    "our_dict[9]=\"eee\"\n",
    "\n",
    "# remove elements\n",
    "our_dict.pop(6)\n",
    "our_dict.pop(1)\n",
    "\n",
    "# extend another dictionary\n",
    "our_dict1 = {1:\"cccc\", 2:\"ttttt\", 3:\"ooop\"}\n",
    "our_dict[10]=our_dict1\n",
    "\n",
    "print(our_dict)\n",
    "\n"
   ]
  },
  {
   "cell_type": "code",
   "execution_count": null,
   "metadata": {},
   "outputs": [],
   "source": []
  },
  {
   "cell_type": "code",
   "execution_count": 31,
   "metadata": {},
   "outputs": [
    {
     "name": "stdout",
     "output_type": "stream",
     "text": [
      "(1, 2, 34, 'Maxx', 3.8098, 'zhen', 'Maxx')\n",
      "\n",
      "2\n",
      "3.8098\n",
      "1\n",
      "Maxx\n"
     ]
    }
   ],
   "source": [
    "# TUPLES\n",
    "# OPERATIONS : 1)CREATE/ 2)INDEXING /3)LOOPING /4)SLICING \n",
    "\n",
    "# 1)CREATE TUPLE\n",
    "# 2)INDEXING\n",
    "\n",
    "tpl = (1, 2, 34, \"Maxx\", 3.8098, \"zhen\", \"Maxx\")\n",
    "print(tpl)\n",
    "print(\"\")\n",
    "print(tpl[1])\n",
    "print(tpl[4])\n",
    "print(tpl[0])\n",
    "print(tpl[3])\n"
   ]
  },
  {
   "cell_type": "code",
   "execution_count": 32,
   "metadata": {},
   "outputs": [
    {
     "name": "stdout",
     "output_type": "stream",
     "text": [
      "1\n",
      "2\n",
      "34\n",
      "Maxx\n",
      "3.8098\n",
      "zhen\n",
      "Maxx\n",
      "\n",
      "(1, 2, 34, 'Maxx', 3.8098, 'zhen', 'Maxx')\n",
      "(1, 2, 34)\n",
      "(1, 2)\n",
      "(2, 34, 'Maxx', 3.8098, 'zhen', 'Maxx')\n"
     ]
    }
   ],
   "source": [
    "# TUPLES\n",
    "# 3)LOOPING \n",
    "# 4)SLICING\n",
    "\n",
    "tpl = (1, 2, 34, \"Maxx\", 3.8098, \"zhen\", \"Maxx\")\n",
    "\n",
    "for i in tpl:\n",
    "    print(i)\n",
    "\n",
    "print(\"\")\n",
    "\n",
    "print(tpl[:])\n",
    "print(tpl[0:3])\n",
    "print(tpl[:2])\n",
    "print(tpl[1:])"
   ]
  },
  {
   "cell_type": "code",
   "execution_count": null,
   "metadata": {},
   "outputs": [],
   "source": [
    "# TUPLES\n",
    "# 5)FINDING THE OCCURANCE OF ELEMENTS IN TUPLE\n",
    "\n",
    "tpl = (1,2,34,\"Maxx\",3.8098,\"zhen\",\"Maxx\")\n",
    "\n",
    "print(\"Maxx:\",tpl.count(\"Maxx\"))"
   ]
  },
  {
   "cell_type": "code",
   "execution_count": null,
   "metadata": {},
   "outputs": [],
   "source": [
    "# SETS\n",
    "# OPEARTIONS: 1)CREATE/ 2)EXTEND ELEMENT TO SET /3)MODIFY SET /4)LOOPING\n",
    "\n",
    "# 1)CREATE\n",
    "# 4)LOOPING THROUGH SET\n",
    "\n",
    "sets = {1,2,3,4,5,\"Maxx\",\"zhen\",\"doug\"}\n",
    "\n",
    "for i in sets:\n",
    "    print(i)"
   ]
  },
  {
   "cell_type": "code",
   "execution_count": 33,
   "metadata": {},
   "outputs": [
    {
     "name": "stdout",
     "output_type": "stream",
     "text": [
      "{1, 2, 3, 4, 5, 'Maxx', 'sas', 'Truman', 2.333, 8.999, 'zhen', 'doug'}\n"
     ]
    }
   ],
   "source": [
    "# SETS\n",
    "# 2)EXTEND ELEMENT TO SET\n",
    "\n",
    "sets = {1,2,3,4,5,\"Maxx\",\"zhen\",\"doug\"}\n",
    "\n",
    "sets.add(\"sas\")\n",
    "sets.add(\"Truman\")\n",
    "sets.add(2.333)\n",
    "sets.add(8.9990)\n",
    "\n",
    "print(sets)"
   ]
  },
  {
   "cell_type": "code",
   "execution_count": 36,
   "metadata": {},
   "outputs": [
    {
     "name": "stdout",
     "output_type": "stream",
     "text": [
      "{2, 3, 4, 5, 'Maxx', 'zhen', 'doug'}\n",
      "{2, 3, 4, 5, 'Maxx', 'doug'}\n",
      "{3, 4, 5, 'Maxx', 'doug'}\n"
     ]
    }
   ],
   "source": [
    "# SETS\n",
    "# 3)MODIFY SET : remove() / pop() / discard()\n",
    "\n",
    "sets = {1,2,3,4,5,\"Maxx\",\"zhen\",\"doug\"}\n",
    "\n",
    "sets.remove(1)\n",
    "print(sets)\n",
    "sets.discard(\"zhen\")\n",
    "print(sets)\n",
    "sets.pop()\n",
    "print(sets)\n"
   ]
  },
  {
   "cell_type": "code",
   "execution_count": null,
   "metadata": {},
   "outputs": [],
   "source": []
  },
  {
   "cell_type": "code",
   "execution_count": null,
   "metadata": {},
   "outputs": [],
   "source": [
    "# FUNCTIONS : BLOCK OF CODE - WRITE ONCE CALL MANY TIMES YOU WANT\n",
    "# OPERATIONS : 1)DEFINE FUNCTION THAT PRINTS A STATEMENT\n",
    "\n",
    "def say_hello_world():          \n",
    "    print(\"hello, world\")\n",
    "\n",
    "say_hello_world()\n"
   ]
  },
  {
   "cell_type": "code",
   "execution_count": 39,
   "metadata": {},
   "outputs": [
    {
     "name": "stdout",
     "output_type": "stream",
     "text": [
      "Enter your name:Chaitanya\n",
      "Hello,  Chaitanya\n",
      "Enter the number:3\n",
      "Enter the number:6\n",
      "Addition= 9\n"
     ]
    }
   ],
   "source": [
    "# FUNCTIONS : BLOCK OF CODE - WRITE ONCE CALL MANY TIMES YOU WANT\n",
    "# OPERATIONS : WHAT USER DEFINED FUNCTIONS LOOKS LIKE \n",
    "               \n",
    "def addition():\n",
    "    number1 = int(input(\"Enter the number:\"))\n",
    "    number2 = int(input(\"Enter the number:\"))\n",
    "    add = number1 + number2\n",
    "    print(\"Addition=\",add)\n",
    "    \n",
    "def say_hello_to_user():\n",
    "    name_of_user = input(\"Enter your name:\")        \n",
    "    print(\"Hello, \", name_of_user)     \n",
    "\n",
    "say_hello_to_user()\n",
    "addition()\n"
   ]
  },
  {
   "cell_type": "code",
   "execution_count": 40,
   "metadata": {},
   "outputs": [
    {
     "name": "stdout",
     "output_type": "stream",
     "text": [
      "(30, -10, 200, 0.5)\n"
     ]
    }
   ],
   "source": [
    "# FUNCTIONS : BLOCK OF CODE - WRITE ONCE CALL MANY TIMES YOU WANT\n",
    "# OPERATIONS : 1)PARAMETERIZED FUNCTION\n",
    "#              2)RETURNING MULTIPLE VALUES \n",
    "\n",
    "def calc(number1, number2):\n",
    "    sum = number1 + number2                 \n",
    "    diff = number1 - number2\n",
    "    product = number1 * number2\n",
    "    div = number1 / number2\n",
    "\n",
    "    return sum, diff, product, div\n",
    "\n",
    "print(calc(10,20))\n"
   ]
  },
  {
   "cell_type": "code",
   "execution_count": null,
   "metadata": {},
   "outputs": [],
   "source": [
    "# FUNCTIONS : BLOCK OF CODE - WRITE ONCE CALL MANY TIMES YOU WANT\n",
    "# OPERATIONS : WHAT INNER FUNCTION LOOKS LIKE\n",
    "\n",
    "def message(username):\n",
    "    def greet_user():\n",
    "        return \"Hello, \"\n",
    "    greet = greet_user() + username\n",
    "    return greet\n",
    "\n",
    "message(\"Aaron\")\n"
   ]
  },
  {
   "cell_type": "code",
   "execution_count": null,
   "metadata": {},
   "outputs": [],
   "source": [
    "# FUNCTIONS : BLOCK OF CODE - WRITE ONCE CALL MANY TIMES YOU WANT\n",
    "# OPERATIONS : WORKING WITH DATA-STRUCTURES IN FUNCTIONS\n",
    "\n",
    "def display(lst):                     \n",
    "    for i in lst:                      \n",
    "        print(i)                       \n",
    "\n",
    "display([1,2,3,4,5])\n"
   ]
  },
  {
   "cell_type": "code",
   "execution_count": null,
   "metadata": {},
   "outputs": [],
   "source": [
    "# RECURSIVE FUNCTIONS - FUNCTION THAT CALLS ITSELF\n",
    "# OPERATIONS : CALCULATE FACTORIAL OF A NUMBER\n",
    "\n",
    "def factorial(n):                       \n",
    "    if n == 0:                       \n",
    "        return 1\n",
    "    else:\n",
    "        result = n * factorial(n - 1)   \n",
    "    return result                       \n",
    "\n",
    "factorial(4)"
   ]
  },
  {
   "cell_type": "code",
   "execution_count": null,
   "metadata": {},
   "outputs": [],
   "source": [
    "# RECURSIVE FUNCTIONS - FUNCTION THAT CALLS ITSELF\n",
    "# OPERATIONS : CALCULATE FACTORIAL OF A NUMBER USING ITERATION\n",
    "\n",
    "def iterative_recursion():\n",
    "    num = int(input(\"Enter a value:\"))\n",
    "    result = 1\n",
    "    for i in range(2, num+1):\n",
    "        result = result * i\n",
    "    return result"
   ]
  }
 ],
 "metadata": {
  "kernelspec": {
   "display_name": "Python 3",
   "language": "python",
   "name": "python3"
  },
  "language_info": {
   "codemirror_mode": {
    "name": "ipython",
    "version": 3
   },
   "file_extension": ".py",
   "mimetype": "text/x-python",
   "name": "python",
   "nbconvert_exporter": "python",
   "pygments_lexer": "ipython3",
   "version": "3.7.1"
  }
 },
 "nbformat": 4,
 "nbformat_minor": 2
}
