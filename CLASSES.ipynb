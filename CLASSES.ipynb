{
 "cells": [
  {
   "cell_type": "code",
   "execution_count": null,
   "metadata": {},
   "outputs": [],
   "source": [
    "# CLASSES : BLUEPRINT FOR CREATING OBJECTS "
   ]
  },
  {
   "cell_type": "code",
   "execution_count": null,
   "metadata": {},
   "outputs": [],
   "source": [
    "class MyClass:\n",
    "    \n",
    "#def __init__(self) method is a constructor provided by python \n",
    "#whenever object created PVM invokes __init__() and passes that object as first parameter to the functions defined\n",
    "#so self parameter in any other methods wil be the object actually which was passed and taht object replaces self.var as obj.var\n",
    "\n",
    "    def __init__(self,name):\n",
    "        self.name = name\n",
    "\n",
    "    def greeting(self):                           #simple user def function that prints out text\n",
    "        print(\"Hey,\",self.name)\n",
    "\n",
    "    def greet_user(self):                        #function takes input from user and prints text along with input\n",
    "        name = input(\"What's your name:\")\n",
    "        print(\"Hello,\", name)\n",
    "\n",
    "    def addition(self):                          \n",
    "        number1 = int(input(\"Enter the number:\"))         #input 1st number\n",
    "        number2 = int(input(\"Enter the number:\"))         #input 2nd number\n",
    "        add = number1 + number2                           #add botha nd store in a 3rd variable\n",
    "        print(\"Sum is:\",add)                              #print the final result\n",
    "\n",
    "    def spectate(self):  \n",
    "        our_list = []                                     #initialize an empty list\n",
    "        size_of_list = int(input(\"Enter size of list:\"))  #ask user to specify length of list.this will conatin no of eements as length\n",
    "        for i in range(size_of_list):                     #use range function to loop through list\n",
    "            element = input('Enter something: ')          #ask user to input range number of times\n",
    "            our_list.append(element)                      #append the entered input to list\n",
    "        print(our_list)                                   #print out the fnal output\n",
    "\n",
    "m = MyClass(\"Chuck\")                                      #create an instance of class\n",
    "\n",
    "m.greet_user()                                            #access method by using . 'dot' operator after instance \n",
    "m.greeting()\n",
    "print(\"\")\n",
    "m.addition()\n",
    "print(\"\")\n",
    "m.spectate()\n",
    "\n"
   ]
  }
 ],
 "metadata": {
  "kernelspec": {
   "display_name": "Python 3",
   "language": "python",
   "name": "python3"
  },
  "language_info": {
   "codemirror_mode": {
    "name": "ipython",
    "version": 3
   },
   "file_extension": ".py",
   "mimetype": "text/x-python",
   "name": "python",
   "nbconvert_exporter": "python",
   "pygments_lexer": "ipython3",
   "version": "3.7.1"
  }
 },
 "nbformat": 4,
 "nbformat_minor": 2
}
