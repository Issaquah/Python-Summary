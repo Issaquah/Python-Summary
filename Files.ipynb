{
 "cells": [
  {
   "cell_type": "code",
   "execution_count": null,
   "metadata": {},
   "outputs": [],
   "source": [
    "# FILES\n",
    "# OPERATIONS : read() / write() / append() / open()"
   ]
  },
  {
   "cell_type": "code",
   "execution_count": 2,
   "metadata": {},
   "outputs": [
    {
     "name": "stdout",
     "output_type": "stream",
     "text": [
      "Enter the file name:pass\n",
      "Write something to pass:this is python. this is awesome\n",
      "\n"
     ]
    }
   ],
   "source": [
    "# FILES\n",
    "# OPERATIONS : 1)craete ,2)open() , 3)write()\n",
    "\n",
    "file_name = input(\"Enter the file name:\")                  #ask user to specify name for file\n",
    "\n",
    "open_file = open(file_name, \"w+\")                          #open file in write mode \n",
    "user_input = input(\"Write something to %s:\" % file_name)   #ask to add with specifying name of file \n",
    "read_data = open_file.read()                               #read data from file\n",
    "print(read_data)                                           #print input written in file\n",
    "open_file.close()                                          #closes file operation"
   ]
  },
  {
   "cell_type": "code",
   "execution_count": null,
   "metadata": {},
   "outputs": [],
   "source": [
    "# FILES\n",
    "# OPERATIONS : append data\n",
    "\n",
    "file_name = input(\"Enter the file name:\")\n",
    "\n",
    "f = open(file_name, \"a\")\n",
    "user_input = input(\"What would you like to add to %s:\" % file_name)\n",
    "f.write(user_input)    \n",
    "with open(file_name) as f:                  #use file to refer to file object\n",
    "        for line in f:                      #use loop to scan through file\n",
    "            u = line.split()                #split lines as in elements in list\n",
    "            print(u)\n",
    "f.close()"
   ]
  },
  {
   "cell_type": "code",
   "execution_count": null,
   "metadata": {},
   "outputs": [],
   "source": []
  },
  {
   "cell_type": "code",
   "execution_count": null,
   "metadata": {},
   "outputs": [],
   "source": []
  },
  {
   "cell_type": "code",
   "execution_count": null,
   "metadata": {},
   "outputs": [],
   "source": [
    "# FILES\n",
    "# OPERATIONS : Check if File exists \n",
    "\n",
    "# os module contains a submodule - 'path'. path module contains isFile method that returns True if file exists and\n",
    "# false if it does not exist. Sys module can be used to exit out of program if file does not exist\n",
    "\n",
    "import os, sys\n",
    "\n",
    "file_name = input(\"Enter the file name:\")\n",
    "\n",
    "if os.path.exists(file_name):                   #path submodule checks if file exists\n",
    "    our_file = open(file_name, 'r')             #if present then open in read mode\n",
    "    read_data = our_file.read()\n",
    "    print(read_data)                            #print data that is in file\n",
    "    our_file.close()  \n",
    "else:\n",
    "    sys.exit()                               #if file not present then execution jumps to else bloc\n"
   ]
  },
  {
   "cell_type": "code",
   "execution_count": null,
   "metadata": {},
   "outputs": [],
   "source": []
  }
 ],
 "metadata": {
  "kernelspec": {
   "display_name": "Python 3",
   "language": "python",
   "name": "python3"
  },
  "language_info": {
   "codemirror_mode": {
    "name": "ipython",
    "version": 3
   },
   "file_extension": ".py",
   "mimetype": "text/x-python",
   "name": "python",
   "nbconvert_exporter": "python",
   "pygments_lexer": "ipython3",
   "version": "3.7.1"
  }
 },
 "nbformat": 4,
 "nbformat_minor": 2
}
